{
 "cells": [
  {
   "cell_type": "code",
   "execution_count": 4,
   "id": "e48ba5e5-737c-4031-aad8-5fe27f13aa5f",
   "metadata": {},
   "outputs": [],
   "source": [
    "#From: https://www.youtube.com/watch?v=4hYOkHijtNw&list=PLy3lFw0OTlutzXFVwttrtaRGEEyLEdnpy&index=2\n",
    "#to import picture below: change the cell to markdown and type ==> ![](name.png)"
   ]
  },
  {
   "cell_type": "markdown",
   "id": "26f80ecb-3e19-44f5-ae7a-8c4486f6de36",
   "metadata": {},
   "source": [
    "![](objectives_weather_dataset.png)"
   ]
  },
  {
   "cell_type": "code",
   "execution_count": null,
   "id": "0b1c5267-ba08-4274-a965-6329a110687d",
   "metadata": {},
   "outputs": [],
   "source": []
  }
 ],
 "metadata": {
  "kernelspec": {
   "display_name": "Python 3 (ipykernel)",
   "language": "python",
   "name": "python3"
  },
  "language_info": {
   "codemirror_mode": {
    "name": "ipython",
    "version": 3
   },
   "file_extension": ".py",
   "mimetype": "text/x-python",
   "name": "python",
   "nbconvert_exporter": "python",
   "pygments_lexer": "ipython3",
   "version": "3.9.5"
  }
 },
 "nbformat": 4,
 "nbformat_minor": 5
}
